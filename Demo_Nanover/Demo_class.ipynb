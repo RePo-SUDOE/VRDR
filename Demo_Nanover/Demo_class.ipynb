{
 "cells": [
  {
   "cell_type": "markdown",
   "id": "d1d7f470-515e-40fd-9f0d-8dc22d508d26",
   "metadata": {},
   "source": [
    "# Setting up the simulation and running the server\n",
    "\n",
    "Just by running the cell below (and wait until the asterisk you see see at the top left of the cell changes to a number between the brackets) you will be able to access to the server Demo_Server using the Nanover App"
   ]
  },
  {
   "cell_type": "code",
   "execution_count": null,
   "id": "e8914a0b-c42e-4dc5-86cc-3f4747c14295",
   "metadata": {},
   "outputs": [],
   "source": [
    "import openmm as mm\n",
    "from openmm import app as app\n",
    "from openmm import unit as unit\n",
    "import sys\n",
    "from nanover.openmm.serializer import serialize_simulation\n",
    "from nanover.omni import OmniRunner\n",
    "from nanover.omni.openmm import OpenMMSimulation\n",
    "from nanover.app import NanoverImdClient\n",
    "from nanover.app import RenderingSelection\n",
    "import matplotlib.cm\n",
    "from nanover.mdanalysis import frame_data_to_mdanalysis\n",
    "\n",
    "# Loading the files to simulate and set up the simulation\n",
    "pdb = app.PDBFile('openmm/openmm_files/output_filename.pdb')\n",
    "forcefield = app.ForceField('amber99sb.xml', 'tip3p.xml')\n",
    "system = forcefield.createSystem(\n",
    "    pdb.topology,\n",
    "    nonbondedMethod=app.PME,\n",
    "    nonbondedCutoff=1 * unit.nanometer,\n",
    "    constraints=app.HBonds,\n",
    "    removeCMMotion=False,\n",
    ") \n",
    "\n",
    "integrator = mm.LangevinIntegrator(\n",
    "    300 * unit.kelvin,\n",
    "    1 / unit.picosecond,\n",
    "    0.002 * unit.picoseconds,\n",
    ")\n",
    "simulation = app.Simulation(pdb.topology, system, integrator)\n",
    "simulation.context.setPositions(pdb.positions)\n",
    "\n",
    "simulation.minimizeEnergy()\n",
    "simulation.step(100)\n",
    "pdb.topology\n",
    "\n",
    "# Create the OpenMMSimulation instance\n",
    "protein_simulation = OpenMMSimulation.from_simulation(simulation)\n",
    "\n",
    "\n",
    "# Pass the simulation to the runner\n",
    "imd_runner = OmniRunner.with_basic_server(protein_simulation, name=\"Demo_Server\", port=0)\n",
    "\n",
    "# Run the simulation\n",
    "imd_runner.next()\n",
    "\n",
    "print(f'{imd_runner.app_server.name}: serving at {imd_runner.app_server.address}:{imd_runner.app_server.port}')\n",
    "\n",
    "from nanover.app import NanoverImdClient\n",
    "\n",
    "client = NanoverImdClient.connect_to_single_server(port=imd_runner.app_server.port)\n",
    "client.subscribe_to_frames()\n",
    "client.wait_until_first_frame();\n",
    "# Begin tracking updates to the shared multiplayer values\n",
    "client.subscribe_multiplayer()\n",
    "\n",
    "def hide_root(show: bool = True):\n",
    "    root_selection = client.root_selection\n",
    "    with root_selection.modify():\n",
    "        root_selection.set_particles(generate_mdanalysis_selection(\"protein and not type H\",\n",
    "                                                        v=False))\n",
    "        root_selection.hide = show\n",
    "        root_selection.interaction_method = 'single'\n",
    "\n",
    "def generate_mdanalysis_selection(selection: str, v: bool=False):\n",
    "    # Crear el objeto Universe a partir del primer frame\n",
    "    universe = frame_data_to_mdanalysis(client.first_frame)\n",
    "    \n",
    "    # Seleccionar los átomos según la selección\n",
    "    selected_atoms = universe.select_atoms(selection)\n",
    "    \n",
    "    # Obtener los residuos únicos (para evitar duplicados) asociados a los átomos seleccionados\n",
    "    selected_residues = selected_atoms.residues\n",
    "    \n",
    "    # Si verbose es True, imprimir los nombres de los residuos\n",
    "    if v:\n",
    "        for residue in selected_residues:\n",
    "            print(f\"Residuo: {residue.resname}, Resid ID: {residue.resid}\")\n",
    "    \n",
    "    # Retornar los índices de los átomos seleccionados\n",
    "    idx_array = selected_atoms.indices\n",
    "    \n",
    "    # Retornar los índices como enteros\n",
    "    return list(map(int, idx_array))\n",
    "\n"
   ]
  },
  {
   "cell_type": "markdown",
   "id": "ee444867-a421-4adc-b7de-1b46dac4c536",
   "metadata": {},
   "source": [
    "## Run this cell below to apply cartoon style"
   ]
  },
  {
   "cell_type": "markdown",
   "id": "e2b2174d-7c56-4396-89ad-7cf322c9278d",
   "metadata": {},
   "source": [
    ">**NOTE:**\n",
    ">There is still a bug related with the renderization of the protein, when it has more than one chain, in cartoon it renders just one of them"
   ]
  },
  {
   "cell_type": "code",
   "execution_count": null,
   "id": "0645eb1a-da37-4de4-a65e-ccd7e38b5a2d",
   "metadata": {},
   "outputs": [],
   "source": [
    "protein = client.create_selection(\"all\", [])\n",
    "\n",
    "with protein.modify():\n",
    "    protein.hide = False\n",
    "    protein.set_particles(generate_mdanalysis_selection(\"all\"))\n",
    "    protein.renderer = 'cartoon'"
   ]
  },
  {
   "cell_type": "code",
   "execution_count": 8,
   "id": "df0a6d1a-c927-46be-85d0-e5cdcf8a0d20",
   "metadata": {},
   "outputs": [],
   "source": [
    "imd_runner.close()"
   ]
  }
 ],
 "metadata": {
  "kernelspec": {
   "display_name": "Python 3 (ipykernel)",
   "language": "python",
   "name": "python3"
  },
  "language_info": {
   "codemirror_mode": {
    "name": "ipython",
    "version": 3
   },
   "file_extension": ".py",
   "mimetype": "text/x-python",
   "name": "python",
   "nbconvert_exporter": "python",
   "pygments_lexer": "ipython3",
   "version": "3.12.8"
  }
 },
 "nbformat": 4,
 "nbformat_minor": 5
}
