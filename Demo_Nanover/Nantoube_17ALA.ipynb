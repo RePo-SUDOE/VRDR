{
 "cells": [
  {
   "cell_type": "markdown",
   "metadata": {},
   "source": [
    "# Setting default visualisations for simulations in NanoVer's OmniRunner"
   ]
  },
  {
   "cell_type": "code",
   "execution_count": 1,
   "metadata": {
    "ExecuteTime": {
     "end_time": "2019-06-06T16:04:25.392952Z",
     "start_time": "2019-06-06T16:04:24.453212Z"
    },
    "extensions": {
     "jupyter_dashboards": {
      "version": 1,
      "views": {
       "grid_default": {
        "hidden": true
       },
       "report_default": {
        "hidden": true
       }
      }
     }
    }
   },
   "outputs": [],
   "source": [
    "from nanover.omni import OmniRunner\n",
    "from nanover.omni.openmm import OpenMMSimulation\n",
    "from nanover.app import RenderingSelection\n",
    "from nanover.app.client import SELECTION_ROOT_ID\n",
    "from nanover.mdanalysis import frame_data_to_mdanalysis"
   ]
  },
  {
   "cell_type": "code",
   "execution_count": 2,
   "metadata": {},
   "outputs": [],
   "source": [
    "def get_selection_indices(frame, query):\n",
    "    # use frame's topology to construct an mdanalysis universe\n",
    "    universe = frame_data_to_mdanalysis(frame)\n",
    "    # query mdanalysis universe for desired atoms\n",
    "    atoms = universe.select_atoms(query)\n",
    "    # convert to integer atom indices\n",
    "    indices = map(int, atoms.indices)\n",
    "    return indices"
   ]
  },
  {
   "cell_type": "code",
   "execution_count": 3,
   "metadata": {},
   "outputs": [],
   "source": [
    "def make_solvent_hiding_selection(omni_omm_simulation):\n",
    "    omni_omm_simulation.load()\n",
    "    frame = omni_omm_simulation.make_topology_frame()\n",
    "    solvent_indices = get_selection_indices(frame, \"resname HOH\")\n",
    "    \n",
    "    selection = RenderingSelection(\"solvent\", \"Solvent\")\n",
    "    selection.set_particles(solvent_indices)\n",
    "    selection.hide = True\n",
    "    selection.interaction_method = \"none\""
   ]
  },
  {
   "cell_type": "code",
   "execution_count": 4,
   "metadata": {
    "ExecuteTime": {
     "end_time": "2019-06-06T16:04:25.397984Z",
     "start_time": "2019-06-06T16:04:25.395015Z"
    },
    "extensions": {
     "jupyter_dashboards": {
      "version": 1,
      "views": {
       "grid_default": {
        "hidden": true
       },
       "report_default": {
        "hidden": true
       }
      }
     }
    }
   },
   "outputs": [],
   "source": [
    "nanotube_xml = \"openmm/openmm_files/nanotube.xml\"\n",
    "alanine_xml = \"openmm/openmm_files/17-ala.xml\"\n",
    "\n",
    "omni_nanotube = OpenMMSimulation.from_xml_path(nanotube_xml)\n",
    "omni_alanine = OpenMMSimulation.from_xml_path(alanine_xml)\n",
    "\n",
    "nanotube_selection = RenderingSelection(SELECTION_ROOT_ID)\n",
    "nanotube_selection.renderer = {\n",
    "    'render': 'ball and stick',\n",
    "    #'0color': {'type': 'particle index', 'gradient': [\"Orange\", \"Blue\"]}\n",
    "    'color': {\n",
    "            'type': 'cpk',\n",
    "            'scheme': 'nanover'\n",
    "        }\n",
    "}\n",
    "\n",
    "alanine_selection = RenderingSelection(SELECTION_ROOT_ID)\n",
    "alanine_selection.renderer = {\n",
    "    'color': {\n",
    "            'type': 'cpk',\n",
    "            'scheme': 'nanover'\n",
    "        },\n",
    "    'scale': 0.1,\n",
    "    'render': 'liquorice'\n",
    "}"
   ]
  },
  {
   "cell_type": "code",
   "execution_count": 5,
   "metadata": {
    "ExecuteTime": {
     "end_time": "2019-06-06T16:04:25.493146Z",
     "start_time": "2019-06-06T16:04:25.400442Z"
    },
    "extensions": {
     "jupyter_dashboards": {
      "version": 1,
      "views": {
       "grid_default": {
        "col": 8,
        "height": 12,
        "hidden": true,
        "row": 0,
        "width": 4
       },
       "report_default": {
        "hidden": false
       }
      }
     }
    }
   },
   "outputs": [
    {
     "name": "stdout",
     "output_type": "stream",
     "text": [
      "Admin: NanoVer iMD Server: serving at [::]:50599\n"
     ]
    }
   ],
   "source": [
    "# This will just automatically close previous instances of the runner if you re-run this cell multiple times\n",
    "try:\n",
    "    omni_runner.close()\n",
    "except NameError:\n",
    "    pass\n",
    "omni_runner = OmniRunner.with_basic_server(port=0)\n",
    "\n",
    "omni_runner.add_simulation(omni_nanotube)\n",
    "omni_runner.set_simulation_selections(omni_nanotube, nanotube_selection)\n",
    "\n",
    "omni_runner.add_simulation(omni_alanine)\n",
    "omni_runner.set_simulation_selections(omni_alanine, alanine_selection)\n",
    "\n",
    "omni_runner.load(0)\n",
    "\n",
    "print(f'{omni_runner.app_server.name}: serving at {omni_runner.app_server.address}:{omni_runner.app_server.port}')"
   ]
  },
  {
   "cell_type": "markdown",
   "metadata": {},
   "source": [
    "Run the cell below (as many times as you like!) to switch between the simulations. If you connect to this server in VR, you'll see that the rendering selections are consistent with those loaded initially for each simulation each time you run this cell, enabling you to switch between the simulations without redefining the selections."
   ]
  },
  {
   "cell_type": "code",
   "execution_count": 7,
   "metadata": {},
   "outputs": [],
   "source": [
    "omni_runner.next()"
   ]
  },
  {
   "cell_type": "markdown",
   "metadata": {},
   "source": [
    "# Close the Server"
   ]
  },
  {
   "cell_type": "code",
   "execution_count": 8,
   "metadata": {},
   "outputs": [],
   "source": [
    "omni_runner.close()"
   ]
  },
  {
   "cell_type": "code",
   "execution_count": null,
   "metadata": {},
   "outputs": [],
   "source": []
  }
 ],
 "metadata": {
  "extensions": {
   "jupyter_dashboards": {
    "activeView": "grid_default",
    "version": 1,
    "views": {
     "grid_default": {
      "cellMargin": 10,
      "defaultCellHeight": 20,
      "maxColumns": 12,
      "name": "grid",
      "type": "grid"
     },
     "report_default": {
      "name": "report",
      "type": "report"
     }
    }
   }
  },
  "hide_input": false,
  "kernelspec": {
   "display_name": "Python 3 (ipykernel)",
   "language": "python",
   "name": "python3"
  },
  "language_info": {
   "codemirror_mode": {
    "name": "ipython",
    "version": 3
   },
   "file_extension": ".py",
   "mimetype": "text/x-python",
   "name": "python",
   "nbconvert_exporter": "python",
   "pygments_lexer": "ipython3",
   "version": "3.12.8"
  },
  "pycharm": {
   "stem_cell": {
    "cell_type": "raw",
    "metadata": {
     "collapsed": false
    },
    "source": []
   }
  },
  "toc": {
   "nav_menu": {},
   "number_sections": true,
   "sideBar": true,
   "skip_h1_title": false,
   "toc_cell": false,
   "toc_position": {},
   "toc_section_display": "block",
   "toc_window_display": false
  }
 },
 "nbformat": 4,
 "nbformat_minor": 4
}
