{
 "cells": [
  {
   "cell_type": "markdown",
   "id": "47607dd97aa922d1",
   "metadata": {},
   "source": [
    " # Multiple Simulations on a Server"
   ]
  },
  {
   "cell_type": "markdown",
   "id": "2a3fb7e1bd99b669",
   "metadata": {},
   "source": [
    "In this notebook we are going to perform multiple simulations and setting default visualisations for each on a single NanoVer OmniRunner server. <br>\n",
    "Once they are loaded, the user can run the first one and then pass to the second, third (etc.), via commands in the Jupyter notebook or the VR interface. <br>\n",
    "Firstly, import the classes from the NanoVer package:"
   ]
  },
  {
   "cell_type": "code",
   "execution_count": 12,
   "id": "62aa87916b233f73",
   "metadata": {
    "ExecuteTime": {
     "end_time": "2024-12-03T11:59:28.902507Z",
     "start_time": "2024-12-03T11:59:28.898912Z"
    }
   },
   "outputs": [],
   "source": [
    "from nanover.omni import OmniRunner\n",
    "from nanover.omni.openmm import OpenMMSimulation\n",
    "from nanover.app import RenderingSelection"
   ]
  },
  {
   "cell_type": "markdown",
   "id": "3d39b840d35707e4",
   "metadata": {},
   "source": [
    "Then load the simulation files, we are loading three different protein-ligand complexes:\n",
    "1. Neuraminidase and zanamivir;\n",
    "2. HIV1 and Amprenavir;\n",
    "3. Trypsin and Indole-Amidine;\n",
    "\n",
    "these are systems from the published paper [\"Interactive molecular dynamics in virtual  reality for accurate flexible protein-ligand docking\"](https://journals.plos.org/plosone/article?id=10.1371/journal.pone.0228461), further details can be found in the `system_descriptions.md` file in `openmm_files` directory, where the files are stored. <br>\n",
    "\n",
    "As we are going to run the simulations using OpenMM, we need to create an `OpenMMSimulation` for each one. <br>\n",
    "In the same cell, we also define the visualisation rendering for each system: by identifying the atoms belonging to the protein and the ligand (e.g.: in .xml file), we set the protein to be visualised as 'cartoon' and the ligand as 'liquorice'. With this selection method, the chosen complex automatically displays the specified rendering each time it is played (see [\"Setting default visualisations for simulations in NanoVer's OmniRunner\"](https://github.com/IRL2/nanover-protocol/blob/main/examples/omni_multiple.ipynb) for another example)."
   ]
  },
  {
   "cell_type": "code",
   "execution_count": 13,
   "id": "19285eb87d52bd3b",
   "metadata": {
    "ExecuteTime": {
     "end_time": "2024-12-03T11:59:30.972844Z",
     "start_time": "2024-12-03T11:59:30.967186Z"
    }
   },
   "outputs": [],
   "source": [
    "# Loading simulation file\n",
    "neuraminidase_zanamivir = \"openmm_files/6hcx_complex.xml\"\n",
    "nz_simulation = OpenMMSimulation.from_xml_path(neuraminidase_zanamivir)\n",
    "\n",
    "# Defining selections and rendering for protein and ligand\n",
    "neuraminidase_selection = RenderingSelection(\"selection.protein\")\n",
    "neuraminidase_selection.set_particles(list(range(0,5966)))\n",
    "neuraminidase_selection.renderer =  'cartoon'\n",
    "\n",
    "zanamivir_selection = RenderingSelection(\"selection.ligand\")\n",
    "zanamivir_selection.set_particles(list(range(5966, 6010)))\n",
    "zanamivir_selection.renderer = {\n",
    "    'color': {\n",
    "        'type': 'cpk',   # we are defining the color scheme, cpk, using the built-in NanoVer version\n",
    "        'scheme': 'nanover'\n",
    "    },\n",
    "    'scale': 0.04,      # the scale (size) \n",
    "    'render': 'liquorice'\n",
    "}"
   ]
  },
  {
   "cell_type": "code",
   "execution_count": 14,
   "id": "606e7d871a17db7f",
   "metadata": {
    "ExecuteTime": {
     "end_time": "2024-12-03T11:59:32.583408Z",
     "start_time": "2024-12-03T11:59:32.578260Z"
    }
   },
   "outputs": [],
   "source": [
    "# Loading simulation file\n",
    "hiv_amprenavir = \"openmm_files/hiv1_complex.xml\"\n",
    "ha_simulation = OpenMMSimulation.from_xml_path(hiv_amprenavir)\n",
    "\n",
    "# Defining selections and rendering for protein and ligand\n",
    "hiv_selection = RenderingSelection(\"selection.protein\")\n",
    "hiv_selection.set_particles(list(range(0,3129)))\n",
    "hiv_selection.renderer =  'cartoon'\n",
    "\n",
    "amprenavir_selection = RenderingSelection(\"selection.ligand\")\n",
    "amprenavir_selection.set_particles(list(range(3129, 3200)))\n",
    "amprenavir_selection.renderer = {\n",
    "    'color': {\n",
    "        'type': 'cpk',\n",
    "        'scheme': 'nanover'\n",
    "    },\n",
    "    'scale': 0.04,\n",
    "    'render': 'liquorice'\n",
    "}"
   ]
  },
  {
   "cell_type": "code",
   "execution_count": 15,
   "id": "e6dfd5a261e73a8c",
   "metadata": {
    "ExecuteTime": {
     "end_time": "2024-12-03T11:59:34.279167Z",
     "start_time": "2024-12-03T11:59:34.272432Z"
    }
   },
   "outputs": [],
   "source": [
    "# Loading simulation file\n",
    "trypsin_indoleamidine = \"openmm_files/2g5n_complex.xml\"\n",
    "ti_simulation = OpenMMSimulation.from_xml_path(trypsin_indoleamidine)\n",
    "\n",
    "# Defining selections and rendering for protein and ligand\n",
    "trypsin_selection = RenderingSelection(\"selection.protein\")\n",
    "trypsin_selection.set_particles(list(range(0,3220)))\n",
    "trypsin_selection.renderer =  'cartoon'\n",
    "\n",
    "indoleamidine_selection = RenderingSelection(\"selection.ligand\")\n",
    "indoleamidine_selection.set_particles(list(range(3220, 3256)))\n",
    "indoleamidine_selection.renderer = {\n",
    "    'color': {\n",
    "        'type': 'cpk',\n",
    "        'scheme': 'nanover'\n",
    "    },\n",
    "    'scale': 0.04,\n",
    "    'render': 'liquorice'\n",
    "}"
   ]
  },
  {
   "cell_type": "markdown",
   "id": "4c709a27e26b1f91",
   "metadata": {},
   "source": [
    "Now we can create an `OmniRunner` to serve and load the Openmm simulations created above onto it."
   ]
  },
  {
   "cell_type": "code",
   "execution_count": 16,
   "id": "5e0518ce668ea95",
   "metadata": {
    "ExecuteTime": {
     "end_time": "2024-12-03T11:59:36.406066Z",
     "start_time": "2024-12-03T11:59:36.346295Z"
    }
   },
   "outputs": [],
   "source": [
    "imd_runner = OmniRunner.with_basic_server(nz_simulation, ha_simulation, ti_simulation, name=\"my-nanover-server\")\n",
    "\n",
    "# within the OmniRunner we set the specific selections for each simulation\n",
    "imd_runner.set_simulation_selections(nz_simulation, neuraminidase_selection, zanamivir_selection)\n",
    "imd_runner.set_simulation_selections(ha_simulation, hiv_selection, amprenavir_selection)\n",
    "imd_runner.set_simulation_selections(ti_simulation, trypsin_selection, indoleamidine_selection)"
   ]
  },
  {
   "cell_type": "code",
   "execution_count": 17,
   "id": "b5db666561946996",
   "metadata": {
    "ExecuteTime": {
     "end_time": "2024-12-03T11:59:37.831194Z",
     "start_time": "2024-12-03T11:59:37.827064Z"
    }
   },
   "outputs": [
    {
     "name": "stdout",
     "output_type": "stream",
     "text": [
      "my-nanover-server: serving at [::]:38801\n"
     ]
    }
   ],
   "source": [
    "# Optional: check your server details by printing its name, address and port\n",
    "print(f'{imd_runner.app_server.name}: serving at {imd_runner.app_server.address}:{imd_runner.app_server.port}')"
   ]
  },
  {
   "cell_type": "markdown",
   "id": "643c0248796ae1ce",
   "metadata": {},
   "source": [
    "All set up! Now run the cell below to start the first simulation (neuraminidase and zanamivir complex) !"
   ]
  },
  {
   "cell_type": "code",
   "execution_count": 19,
   "id": "881c126ae763bfae",
   "metadata": {
    "ExecuteTime": {
     "end_time": "2024-12-03T12:00:10.452017Z",
     "start_time": "2024-12-03T12:00:07.592217Z"
    }
   },
   "outputs": [],
   "source": [
    "# Start the first simulation\n",
    "imd_runner.load(0)\n",
    "imd_runner.play()"
   ]
  },
  {
   "cell_type": "markdown",
   "id": "349b666e98342a26",
   "metadata": {},
   "source": [
    "## Jupyter notebook interface"
   ]
  },
  {
   "cell_type": "markdown",
   "id": "2b9b9bce8efc67c3",
   "metadata": {},
   "source": [
    "Through the notebook you can switch among the simulations in two ways. <br>\n",
    "Using the `.next()` method, one can sequentially pass through the simulations loaded onto the server according to the order you set the `OmniRunner.with_basic_server(...)`. <br> \n",
    "\n"
   ]
  },
  {
   "cell_type": "code",
   "execution_count": 20,
   "id": "627346209b7e2f52",
   "metadata": {
    "ExecuteTime": {
     "end_time": "2024-12-03T12:02:50.282896Z",
     "start_time": "2024-12-03T12:02:50.232826Z"
    }
   },
   "outputs": [],
   "source": [
    "# Switch to the second simulation\n",
    "imd_runner.next() "
   ]
  },
  {
   "cell_type": "markdown",
   "id": "8a2cf885c4e75683",
   "metadata": {},
   "source": [
    "In this case, after running the cell above, you will visualise the HIV and amprenavir complex. <br>\n",
    "Once you have finished with the second simulation, run the cell below to start the third simulation to play with the trypsin and indoleamidine system."
   ]
  },
  {
   "cell_type": "code",
   "execution_count": 24,
   "id": "92c8d230b0cb3cc9",
   "metadata": {
    "ExecuteTime": {
     "end_time": "2024-12-03T12:19:03.395755Z",
     "start_time": "2024-12-03T12:19:03.355913Z"
    }
   },
   "outputs": [],
   "source": [
    "# Switch to the third simulation\n",
    "imd_runner.next()"
   ]
  },
  {
   "cell_type": "markdown",
   "id": "838ec975d49438bb",
   "metadata": {},
   "source": [
    "It is also possible to switch to a specific simulation with the following method:"
   ]
  },
  {
   "cell_type": "code",
   "execution_count": 23,
   "id": "8b087f58958a928b",
   "metadata": {
    "ExecuteTime": {
     "end_time": "2024-12-03T12:03:03.653742Z",
     "start_time": "2024-12-03T12:03:03.615099Z"
    }
   },
   "outputs": [],
   "source": [
    "imd_runner.load(0) # Select which simulation you want to load (0 , 1 , 2 )\n",
    "imd_runner.play() # play simulation"
   ]
  },
  {
   "cell_type": "markdown",
   "id": "fade2467432c082b",
   "metadata": {},
   "source": [
    "Using `.load()` you can choose the one you prefer and then `.play` it. Each simulation has a number assigned, starting from `0`, according to the order you set the `OmniRunner.with_basic_server(...)`. <br> "
   ]
  },
  {
   "cell_type": "markdown",
   "id": "cb79e7ff1a25256",
   "metadata": {},
   "source": [
    "## VR interface "
   ]
  },
  {
   "cell_type": "markdown",
   "id": "f48dad2630f92277",
   "metadata": {},
   "source": [
    "There is the possibility to switch among simulation files directly while in VR space. <br>\n",
    "You need to access the menu holding the left joystick forward, select 'menu' then 'sims', which contains all the simulations loaded.\n",
    "Choose the one you prefer and it will be loaded inside NanoVer. You can repeat this action how many times you prefer. <br>\n",
    "Here there is a gif illustrating the process:"
   ]
  },
  {
   "cell_type": "markdown",
   "id": "ca4eebeef20befc9",
   "metadata": {},
   "source": [
    "![SegmentLocal](images/MultipleFiles.gif \"segment\")"
   ]
  },
  {
   "cell_type": "markdown",
   "id": "7e6f07c47830378e",
   "metadata": {},
   "source": [
    "## Close the server\n",
    "Well done! You've learned how to run multiple simulation files on a single server and set default visualization for each.\n",
    "When you have finished with your session, close the server running the cell below. "
   ]
  },
  {
   "cell_type": "code",
   "execution_count": 11,
   "id": "48705db2575dfb3e",
   "metadata": {
    "ExecuteTime": {
     "end_time": "2024-12-03T11:45:13.160912Z",
     "start_time": "2024-12-03T11:45:12.951104Z"
    }
   },
   "outputs": [],
   "source": [
    "imd_runner.close()"
   ]
  },
  {
   "cell_type": "markdown",
   "id": "17bbd0dae58d7c7b",
   "metadata": {},
   "source": [
    "## Next Step\n",
    "\n",
    "1. Learn how to set up an OpenMM simulation from scratch to generate an .xml file compatible with NanoVer [here](../openmm/openmm_neuraminidase.ipynb).\n",
    "2. Refer to this [notebook](../fundamentals/visualisations.ipynb) to explore additional visualization methods and rendering options."
   ]
  }
 ],
 "metadata": {
  "kernelspec": {
   "display_name": "Python 3 (ipykernel)",
   "language": "python",
   "name": "python3"
  },
  "language_info": {
   "codemirror_mode": {
    "name": "ipython",
    "version": 3
   },
   "file_extension": ".py",
   "mimetype": "text/x-python",
   "name": "python",
   "nbconvert_exporter": "python",
   "pygments_lexer": "ipython3",
   "version": "3.12.7"
  }
 },
 "nbformat": 4,
 "nbformat_minor": 5
}
